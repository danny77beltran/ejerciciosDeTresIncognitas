{
  "nbformat": 4,
  "nbformat_minor": 0,
  "metadata": {
    "colab": {
      "provenance": [],
      "authorship_tag": "ABX9TyO03AII/8WyceD7g5KvjJGr",
      "include_colab_link": true
    },
    "kernelspec": {
      "name": "python3",
      "display_name": "Python 3"
    },
    "language_info": {
      "name": "python"
    }
  },
  "cells": [
    {
      "cell_type": "markdown",
      "metadata": {
        "id": "view-in-github",
        "colab_type": "text"
      },
      "source": [
        "<a href=\"https://colab.research.google.com/github/danny77beltran/ejerciciosDeTresIncognitas/blob/main/(Ejercicio3_3)2.ipynb\" target=\"_parent\"><img src=\"https://colab.research.google.com/assets/colab-badge.svg\" alt=\"Open In Colab\"/></a>"
      ]
    },
    {
      "cell_type": "code",
      "execution_count": 2,
      "metadata": {
        "colab": {
          "base_uri": "https://localhost:8080/"
        },
        "id": "ame4t_UTEyQW",
        "outputId": "8b948aea-6b51-4fbf-b4e0-20d1f8fa2118"
      },
      "outputs": [
        {
          "output_type": "stream",
          "name": "stdout",
          "text": [
            "Hora actual en Ecuador: 2025-10-20 21:35:55\n",
            "Danny Fernando Beltrán\n",
            "Primer ciclo - computación\n"
          ]
        },
        {
          "output_type": "execute_result",
          "data": {
            "text/plain": [
              "{x: -1, y: 3, z: 5}"
            ]
          },
          "metadata": {},
          "execution_count": 2
        }
      ],
      "source": [
        "from datetime import datetime\n",
        "from sympy import symbols, Eq, solve\n",
        "import pytz\n",
        "\n",
        "# Definir la zona horaria de Ecuador\n",
        "ecuador_tz = pytz.timezone(\"America/Guayaquil\")\n",
        "# Obtener la hora actual de Ecuador\n",
        "hora_actual = datetime.now(ecuador_tz)\n",
        "# Imprimir la hora en formato legible\n",
        "\n",
        "print(\"Hora actual en Ecuador:\", hora_actual.strftime(\"%Y-%m-%d %H:%M:%S\"))\n",
        "print(\"Danny Fernando Beltrán\")\n",
        "print(\"Primer ciclo - computación\")\n",
        "\n",
        "\n",
        "x, y, z = symbols('x y z')\n",
        "sol = solve([\n",
        "    Eq(-1*x + 3*y + z, 15),\n",
        "    Eq(5*x - y + 2*z, 2),\n",
        "    Eq(3*x + 2*y  - z, -2)\n",
        "], (x, y, z))\n",
        "sol"
      ]
    }
  ]
}