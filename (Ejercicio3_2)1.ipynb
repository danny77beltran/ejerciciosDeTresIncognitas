{
  "nbformat": 4,
  "nbformat_minor": 0,
  "metadata": {
    "colab": {
      "provenance": [],
      "authorship_tag": "ABX9TyPMbPWBfXwirCYJ5tNZ1qIm",
      "include_colab_link": true
    },
    "kernelspec": {
      "name": "python3",
      "display_name": "Python 3"
    },
    "language_info": {
      "name": "python"
    }
  },
  "cells": [
    {
      "cell_type": "markdown",
      "metadata": {
        "id": "view-in-github",
        "colab_type": "text"
      },
      "source": [
        "<a href=\"https://colab.research.google.com/github/danny77beltran/ejerciciosDeTresIncognitas/blob/main/(Ejercicio3_2)1.ipynb\" target=\"_parent\"><img src=\"https://colab.research.google.com/assets/colab-badge.svg\" alt=\"Open In Colab\"/></a>"
      ]
    },
    {
      "cell_type": "code",
      "execution_count": 1,
      "metadata": {
        "colab": {
          "base_uri": "https://localhost:8080/"
        },
        "id": "ame4t_UTEyQW",
        "outputId": "d228300e-ee53-4957-e1f8-79a40314dca2"
      },
      "outputs": [
        {
          "output_type": "stream",
          "name": "stdout",
          "text": [
            "Hora actual en Ecuador: 2025-10-20 21:32:25\n",
            "Danny Fernando Beltrán\n",
            "Primer ciclo - computación\n"
          ]
        },
        {
          "output_type": "execute_result",
          "data": {
            "text/plain": [
              "{x: 1, y: 2, z: 3}"
            ]
          },
          "metadata": {},
          "execution_count": 1
        }
      ],
      "source": [
        "from datetime import datetime\n",
        "from sympy import symbols, Eq, solve\n",
        "import pytz\n",
        "\n",
        "# Definir la zona horaria de Ecuador\n",
        "ecuador_tz = pytz.timezone(\"America/Guayaquil\")\n",
        "# Obtener la hora actual de Ecuador\n",
        "hora_actual = datetime.now(ecuador_tz)\n",
        "# Imprimir la hora en formato legible\n",
        "\n",
        "print(\"Hora actual en Ecuador:\", hora_actual.strftime(\"%Y-%m-%d %H:%M:%S\"))\n",
        "print(\"Danny Fernando Beltrán\")\n",
        "print(\"Primer ciclo - computación\")\n",
        "\n",
        "\n",
        "x, y, z = symbols('x y z')\n",
        "sol = solve([\n",
        "    Eq(2*x + 3*y + 4*z, 20),\n",
        "    Eq(3*x - 5*y - 1*z, -10),\n",
        "    Eq(-1*x + 2*y  - 3*z, -6)\n",
        "], (x, y, z))\n",
        "sol"
      ]
    }
  ]
}