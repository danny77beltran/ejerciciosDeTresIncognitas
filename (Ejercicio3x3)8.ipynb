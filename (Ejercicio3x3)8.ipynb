{
  "nbformat": 4,
  "nbformat_minor": 0,
  "metadata": {
    "colab": {
      "provenance": [],
      "authorship_tag": "ABX9TyPB592juQSqxTJt0ZK3PufE",
      "include_colab_link": true
    },
    "kernelspec": {
      "name": "python3",
      "display_name": "Python 3"
    },
    "language_info": {
      "name": "python"
    }
  },
  "cells": [
    {
      "cell_type": "markdown",
      "metadata": {
        "id": "view-in-github",
        "colab_type": "text"
      },
      "source": [
        "<a href=\"https://colab.research.google.com/github/danny77beltran/ejerciciosDeTresIncognitas/blob/main/(Ejercicio3x3)8.ipynb\" target=\"_parent\"><img src=\"https://colab.research.google.com/assets/colab-badge.svg\" alt=\"Open In Colab\"/></a>"
      ]
    },
    {
      "cell_type": "code",
      "execution_count": 8,
      "metadata": {
        "colab": {
          "base_uri": "https://localhost:8080/"
        },
        "id": "ame4t_UTEyQW",
        "outputId": "b1f10f91-4664-4fab-d739-335d75e48fa7"
      },
      "outputs": [
        {
          "output_type": "stream",
          "name": "stdout",
          "text": [
            "Hora actual en Ecuador: 2025-10-20 21:50:48\n",
            "Danny Fernando Beltrán\n",
            "Primer ciclo - computación\n"
          ]
        },
        {
          "output_type": "execute_result",
          "data": {
            "text/plain": [
              "{x: 17/9, y: 20/9, z: 23/9}"
            ]
          },
          "metadata": {},
          "execution_count": 8
        }
      ],
      "source": [
        "from datetime import datetime\n",
        "from sympy import symbols, Eq, solve\n",
        "import pytz\n",
        "\n",
        "# Definir la zona horaria de Ecuador\n",
        "ecuador_tz = pytz.timezone(\"America/Guayaquil\")\n",
        "# Obtener la hora actual de Ecuador\n",
        "hora_actual = datetime.now(ecuador_tz)\n",
        "# Imprimir la hora en formato legible\n",
        "\n",
        "print(\"Hora actual en Ecuador:\", hora_actual.strftime(\"%Y-%m-%d %H:%M:%S\"))\n",
        "print(\"Danny Fernando Beltrán\")\n",
        "print(\"Primer ciclo - computación\")\n",
        "\n",
        "\n",
        "x, y, z = symbols('x y z')\n",
        "sol = solve([\n",
        "    Eq(x + 2*y + 3*z, 14),\n",
        "    Eq(2*x + 3*y + z, 13),\n",
        "    Eq(3*x + y  + 2*z, 13)\n",
        "], (x, y, z))\n",
        "sol"
      ]
    }
  ]
}