{
  "nbformat": 4,
  "nbformat_minor": 0,
  "metadata": {
    "colab": {
      "provenance": [],
      "authorship_tag": "ABX9TyNvvgNPcpVVyQkYJeQadAVX",
      "include_colab_link": true
    },
    "kernelspec": {
      "name": "python3",
      "display_name": "Python 3"
    },
    "language_info": {
      "name": "python"
    }
  },
  "cells": [
    {
      "cell_type": "markdown",
      "metadata": {
        "id": "view-in-github",
        "colab_type": "text"
      },
      "source": [
        "<a href=\"https://colab.research.google.com/github/danny77beltran/ejerciciosDeTresIncognitas/blob/main/(Ejercicio3x3)7.ipynb\" target=\"_parent\"><img src=\"https://colab.research.google.com/assets/colab-badge.svg\" alt=\"Open In Colab\"/></a>"
      ]
    },
    {
      "cell_type": "code",
      "execution_count": 7,
      "metadata": {
        "colab": {
          "base_uri": "https://localhost:8080/"
        },
        "id": "ame4t_UTEyQW",
        "outputId": "88d5fd0e-5809-48c7-9a0f-6de439de638d"
      },
      "outputs": [
        {
          "output_type": "stream",
          "name": "stdout",
          "text": [
            "Hora actual en Ecuador: 2025-10-20 21:48:43\n",
            "Danny Fernando Beltrán\n",
            "Primer ciclo - computación\n"
          ]
        },
        {
          "output_type": "execute_result",
          "data": {
            "text/plain": [
              "{x: 300, y: 400, z: 500}"
            ]
          },
          "metadata": {},
          "execution_count": 7
        }
      ],
      "source": [
        "from datetime import datetime\n",
        "from sympy import symbols, Eq, solve\n",
        "import pytz\n",
        "\n",
        "# Definir la zona horaria de Ecuador\n",
        "ecuador_tz = pytz.timezone(\"America/Guayaquil\")\n",
        "# Obtener la hora actual de Ecuador\n",
        "hora_actual = datetime.now(ecuador_tz)\n",
        "# Imprimir la hora en formato legible\n",
        "\n",
        "print(\"Hora actual en Ecuador:\", hora_actual.strftime(\"%Y-%m-%d %H:%M:%S\"))\n",
        "print(\"Danny Fernando Beltrán\")\n",
        "print(\"Primer ciclo - computación\")\n",
        "\n",
        "\n",
        "x, y, z = symbols('x y z')\n",
        "sol = solve([\n",
        "    Eq(x + y + z, 1200),\n",
        "    Eq(2*x + y + 3*z, 2500),\n",
        "    Eq(x - y  + z, 400)\n",
        "], (x, y, z))\n",
        "sol"
      ]
    }
  ]
}